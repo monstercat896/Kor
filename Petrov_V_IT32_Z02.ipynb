{
 "cells": [
  {
   "cell_type": "code",
   "execution_count": 2,
   "metadata": {},
   "outputs": [
    {
     "name": "stdout",
     "output_type": "stream",
     "text": [
      "              artist                  track\n",
      "0    Yeah Yeah Yeahs        Heads Will Roll\n",
      "1          The Verve  Bitter Sweet Symphony\n",
      "2                ATC   All Around The World\n",
      "3               ABBA   Gimme! Gimme! Gimme!\n",
      "4  Guru Josh Project               Infinity\n"
     ]
    }
   ],
   "source": [
    "import pandas as pd\n",
    "\n",
    "music = [\n",
    "    [\"Yeah Yeah Yeahs\", \"Heads Will Roll\"],\n",
    "    [\"The Verve\", \"Bitter Sweet Symphony\"],\n",
    "    [\"ATC\", \"All Around The World\"],\n",
    "    [\"ABBA\", \"Gimme! Gimme! Gimme!\"],\n",
    "    [\"Guru Josh Project\", \"Infinity\"]\n",
    "]\n",
    "\n",
    "entries = [\"artist\", \"track\"]\n",
    "\n",
    "playlist = pd.DataFrame(music, columns=entries)\n",
    "\n",
    "print(playlist)\n"
   ]
  }
 ],
 "metadata": {
  "kernelspec": {
   "display_name": "Python 3",
   "language": "python",
   "name": "python3"
  },
  "language_info": {
   "codemirror_mode": {
    "name": "ipython",
    "version": 3
   },
   "file_extension": ".py",
   "mimetype": "text/x-python",
   "name": "python",
   "nbconvert_exporter": "python",
   "pygments_lexer": "ipython3",
   "version": "3.11.9"
  }
 },
 "nbformat": 4,
 "nbformat_minor": 2
}
